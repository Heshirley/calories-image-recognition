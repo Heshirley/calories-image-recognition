{
 "cells": [
  {
   "cell_type": "code",
   "execution_count": 18,
   "id": "543a91a8-5db5-4d0f-9116-a3ecc4f2b9cd",
   "metadata": {},
   "outputs": [
    {
     "data": {
      "text/html": [
       "<div>\n",
       "<style scoped>\n",
       "    .dataframe tbody tr th:only-of-type {\n",
       "        vertical-align: middle;\n",
       "    }\n",
       "\n",
       "    .dataframe tbody tr th {\n",
       "        vertical-align: top;\n",
       "    }\n",
       "\n",
       "    .dataframe thead th {\n",
       "        text-align: right;\n",
       "    }\n",
       "</style>\n",
       "<table border=\"1\" class=\"dataframe\">\n",
       "  <thead>\n",
       "    <tr style=\"text-align: right;\">\n",
       "      <th></th>\n",
       "      <th>Food</th>\n",
       "      <th>Serving</th>\n",
       "      <th>Calories</th>\n",
       "    </tr>\n",
       "  </thead>\n",
       "  <tbody>\n",
       "    <tr>\n",
       "      <th>0</th>\n",
       "      <td>Artichoke</td>\n",
       "      <td>1 artichoke (128 g)</td>\n",
       "      <td>60 cal</td>\n",
       "    </tr>\n",
       "    <tr>\n",
       "      <th>1</th>\n",
       "      <td>Arugula</td>\n",
       "      <td>1 leaf (2 g)</td>\n",
       "      <td>1 cal</td>\n",
       "    </tr>\n",
       "    <tr>\n",
       "      <th>2</th>\n",
       "      <td>Asparagus</td>\n",
       "      <td>1 spear (12 g)</td>\n",
       "      <td>2 cal</td>\n",
       "    </tr>\n",
       "    <tr>\n",
       "      <th>3</th>\n",
       "      <td>Aubergine</td>\n",
       "      <td>1 aubergine (458 g)</td>\n",
       "      <td>115 cal</td>\n",
       "    </tr>\n",
       "    <tr>\n",
       "      <th>4</th>\n",
       "      <td>Beetroot</td>\n",
       "      <td>1 beet (82 g)</td>\n",
       "      <td>35 cal</td>\n",
       "    </tr>\n",
       "  </tbody>\n",
       "</table>\n",
       "</div>"
      ],
      "text/plain": [
       "        Food              Serving Calories\n",
       "0  Artichoke  1 artichoke (128 g)   60 cal\n",
       "1    Arugula         1 leaf (2 g)    1 cal\n",
       "2  Asparagus       1 spear (12 g)    2 cal\n",
       "3  Aubergine  1 aubergine (458 g)  115 cal\n",
       "4   Beetroot        1 beet (82 g)   35 cal"
      ]
     },
     "execution_count": 18,
     "metadata": {},
     "output_type": "execute_result"
    }
   ],
   "source": [
    "# Load the new CSV file into a DataFrame\n",
    "new_csv_file_path = 'Food and Calories - Sheet1.csv'\n",
    "new_df = pd.read_csv(new_csv_file_path)\n",
    "\n",
    "# Display the first few rows of the DataFrame to understand its structure\n",
    "new_df.head()\n"
   ]
  },
  {
   "cell_type": "code",
   "execution_count": 19,
   "id": "e5a4aab2-6a26-4d73-b011-c927b93699de",
   "metadata": {},
   "outputs": [],
   "source": [
    "# 专门替换'nan'为'0'\n",
    "new_df['Calories'] = new_df['Calories'].str.replace('nan', '0')\n",
    "\n",
    "# 确保Calories列是字符串类型\n",
    "new_df['Calories'] = new_df['Calories'].astype(str)\n",
    "\n",
    "# 创建Calories_numeric列，将Calories列中的值转换为整数\n",
    "new_df['Calories_numeric'] = new_df['Calories'].apply(lambda x: int(x.replace(\" cal\", \"\")))"
   ]
  },
  {
   "cell_type": "code",
   "execution_count": 21,
   "id": "c5f88c0a-6d36-4da0-ae47-345ee99089fd",
   "metadata": {},
   "outputs": [
    {
     "data": {
      "text/plain": [
       "0      60\n",
       "1       1\n",
       "2       2\n",
       "3     115\n",
       "4      35\n",
       "     ... \n",
       "95      2\n",
       "96     62\n",
       "97    215\n",
       "98     17\n",
       "99     59\n",
       "Name: Calories_numeric, Length: 100, dtype: int64"
      ]
     },
     "execution_count": 21,
     "metadata": {},
     "output_type": "execute_result"
    }
   ],
   "source": [
    "new_df['Calories_numeric'].head(100)"
   ]
  },
  {
   "cell_type": "code",
   "execution_count": 23,
   "id": "d40d2e91-ab10-402c-aa57-bfe4337f3422",
   "metadata": {
    "collapsed": true,
    "jupyter": {
     "outputs_hidden": true
    },
    "tags": []
   },
   "outputs": [
    {
     "name": "stdout",
     "output_type": "stream",
     "text": [
      "Looking in indexes: https://pypi.tuna.tsinghua.edu.cn/simple\n",
      "Collecting openpyxl\n",
      "  Downloading https://pypi.tuna.tsinghua.edu.cn/packages/30/d0/abcdb0669931be3a98881e6d7851605981693e93a7924061c67d0cd9f292/openpyxl-3.1.4-py2.py3-none-any.whl (251 kB)\n",
      "\u001b[2K     \u001b[90m━━━━━━━━━━━━━━━━━━━━━━━━━━━━━━━━━━━━━\u001b[0m \u001b[32m251.4/251.4 kB\u001b[0m \u001b[31m121.5 MB/s\u001b[0m eta \u001b[36m0:00:00\u001b[0m\n",
      "\u001b[?25hCollecting et-xmlfile (from openpyxl)\n",
      "  Downloading https://pypi.tuna.tsinghua.edu.cn/packages/96/c2/3dd434b0108730014f1b96fd286040dc3bcb70066346f7e01ec2ac95865f/et_xmlfile-1.1.0-py3-none-any.whl (4.7 kB)\n",
      "Installing collected packages: et-xmlfile, openpyxl\n",
      "Successfully installed et-xmlfile-1.1.0 openpyxl-3.1.4\n"
     ]
    }
   ],
   "source": [
    "!pip install openpyxl"
   ]
  },
  {
   "cell_type": "code",
   "execution_count": 24,
   "id": "9f908925-8605-4ada-aa86-93c3fc37bc88",
   "metadata": {},
   "outputs": [],
   "source": [
    "import pandas as pd\n",
    "\n",
    "# 假设new_df是你处理过的DataFrame\n",
    "\n",
    "# 创建分类\n",
    "low_calorie = new_df[new_df['Calories_numeric'] < 100]\n",
    "medium_calorie = new_df[(new_df['Calories_numeric'] >= 100) & (new_df['Calories_numeric'] <= 300)]\n",
    "high_calorie = new_df[new_df['Calories_numeric'] > 300]\n",
    "\n",
    "# 保存为Excel文件\n",
    "low_calorie.to_excel('Low_Calorie_Foods.xlsx', index=False)\n",
    "medium_calorie.to_excel('Medium_Calorie_Foods.xlsx', index=False)\n",
    "high_calorie.to_excel('High_Calorie_Foods.xlsx', index=False)"
   ]
  },
  {
   "cell_type": "code",
   "execution_count": null,
   "id": "423c9fb9-0714-48ad-ad13-a29ca2114214",
   "metadata": {},
   "outputs": [],
   "source": []
  },
  {
   "cell_type": "code",
   "execution_count": null,
   "id": "d6db1c37-f60b-4887-86ef-60031ea0243f",
   "metadata": {},
   "outputs": [],
   "source": []
  },
  {
   "cell_type": "code",
   "execution_count": null,
   "id": "65174f35-2b49-49f8-99b7-610fb693e7de",
   "metadata": {},
   "outputs": [],
   "source": []
  },
  {
   "cell_type": "code",
   "execution_count": null,
   "id": "0e0bebec-5cfb-407d-a257-bf7b73a6bb34",
   "metadata": {},
   "outputs": [],
   "source": []
  }
 ],
 "metadata": {
  "kernelspec": {
   "display_name": "Python 3 (ipykernel)",
   "language": "python",
   "name": "python3"
  },
  "language_info": {
   "codemirror_mode": {
    "name": "ipython",
    "version": 3
   },
   "file_extension": ".py",
   "mimetype": "text/x-python",
   "name": "python",
   "nbconvert_exporter": "python",
   "pygments_lexer": "ipython3",
   "version": "3.10.12"
  }
 },
 "nbformat": 4,
 "nbformat_minor": 5
}
